{
 "cells": [
  {
   "cell_type": "code",
   "execution_count": 1,
   "metadata": {},
   "outputs": [
    {
     "name": "stderr",
     "output_type": "stream",
     "text": [
      "[nltk_data] Downloading package stopwords to C:\\Users\\Jayendran\n",
      "[nltk_data]     Kannaiyan\\AppData\\Roaming\\nltk_data...\n",
      "[nltk_data]   Package stopwords is already up-to-date!\n"
     ]
    }
   ],
   "source": [
    "import pandas as pd\n",
    "import numpy as np\n",
    "import matplotlib.pyplot as plt\n",
    "import seaborn as sns\n",
    "from prettytable import PrettyTable\n",
    "import warnings\n",
    "warnings.filterwarnings('ignore')\n",
    "import re\n",
    "import nltk\n",
    "nltk.download('stopwords')\n",
    "from nltk.corpus import stopwords"
   ]
  },
  {
   "cell_type": "code",
   "execution_count": 2,
   "metadata": {},
   "outputs": [
    {
     "data": {
      "text/html": [
       "<div>\n",
       "<style scoped>\n",
       "    .dataframe tbody tr th:only-of-type {\n",
       "        vertical-align: middle;\n",
       "    }\n",
       "\n",
       "    .dataframe tbody tr th {\n",
       "        vertical-align: top;\n",
       "    }\n",
       "\n",
       "    .dataframe thead th {\n",
       "        text-align: right;\n",
       "    }\n",
       "</style>\n",
       "<table border=\"1\" class=\"dataframe\">\n",
       "  <thead>\n",
       "    <tr style=\"text-align: right;\">\n",
       "      <th></th>\n",
       "      <th>name</th>\n",
       "      <th>item_condition_id</th>\n",
       "      <th>category_name</th>\n",
       "      <th>brand_name</th>\n",
       "      <th>price</th>\n",
       "      <th>shipping</th>\n",
       "      <th>seller_id</th>\n",
       "      <th>item_description</th>\n",
       "    </tr>\n",
       "    <tr>\n",
       "      <th>id</th>\n",
       "      <th></th>\n",
       "      <th></th>\n",
       "      <th></th>\n",
       "      <th></th>\n",
       "      <th></th>\n",
       "      <th></th>\n",
       "      <th></th>\n",
       "      <th></th>\n",
       "    </tr>\n",
       "  </thead>\n",
       "  <tbody>\n",
       "    <tr>\n",
       "      <th>17</th>\n",
       "      <td>Hold Alyssa Frye Harness boots 12R, Sz 7</td>\n",
       "      <td>3</td>\n",
       "      <td>Women/Shoes/Boots</td>\n",
       "      <td>Frye</td>\n",
       "      <td>79</td>\n",
       "      <td>1</td>\n",
       "      <td>211140753</td>\n",
       "      <td>Good used condition Women's Fyre harness boots...</td>\n",
       "    </tr>\n",
       "  </tbody>\n",
       "</table>\n",
       "</div>"
      ],
      "text/plain": [
       "                                        name  item_condition_id  \\\n",
       "id                                                                \n",
       "17  Hold Alyssa Frye Harness boots 12R, Sz 7                  3   \n",
       "\n",
       "        category_name brand_name  price  shipping  seller_id  \\\n",
       "id                                                             \n",
       "17  Women/Shoes/Boots       Frye     79         1  211140753   \n",
       "\n",
       "                                     item_description  \n",
       "id                                                     \n",
       "17  Good used condition Women's Fyre harness boots...  "
      ]
     },
     "execution_count": 2,
     "metadata": {},
     "output_type": "execute_result"
    }
   ],
   "source": [
    "df = pd.read_csv(\"mercari_train.csv\", index_col = [\"id\"])\n",
    "df.head(1)"
   ]
  },
  {
   "cell_type": "code",
   "execution_count": 3,
   "metadata": {
    "scrolled": false
   },
   "outputs": [
    {
     "data": {
      "text/html": [
       "<div>\n",
       "<style scoped>\n",
       "    .dataframe tbody tr th:only-of-type {\n",
       "        vertical-align: middle;\n",
       "    }\n",
       "\n",
       "    .dataframe tbody tr th {\n",
       "        vertical-align: top;\n",
       "    }\n",
       "\n",
       "    .dataframe thead th {\n",
       "        text-align: right;\n",
       "    }\n",
       "</style>\n",
       "<table border=\"1\" class=\"dataframe\">\n",
       "  <thead>\n",
       "    <tr style=\"text-align: right;\">\n",
       "      <th></th>\n",
       "      <th>name</th>\n",
       "      <th>item_condition_id</th>\n",
       "      <th>category_name</th>\n",
       "      <th>brand_name</th>\n",
       "      <th>shipping</th>\n",
       "      <th>seller_id</th>\n",
       "      <th>item_description</th>\n",
       "    </tr>\n",
       "    <tr>\n",
       "      <th>id</th>\n",
       "      <th></th>\n",
       "      <th></th>\n",
       "      <th></th>\n",
       "      <th></th>\n",
       "      <th></th>\n",
       "      <th></th>\n",
       "      <th></th>\n",
       "    </tr>\n",
       "  </thead>\n",
       "  <tbody>\n",
       "    <tr>\n",
       "      <th>46</th>\n",
       "      <td>Corral boots</td>\n",
       "      <td>2</td>\n",
       "      <td>Women/Shoes/Boots</td>\n",
       "      <td>NaN</td>\n",
       "      <td>0</td>\n",
       "      <td>2261402465</td>\n",
       "      <td>Corral boots in excellent condition barely used</td>\n",
       "    </tr>\n",
       "    <tr>\n",
       "      <th>88</th>\n",
       "      <td>Vince Camuto Riding boots size 6</td>\n",
       "      <td>2</td>\n",
       "      <td>Women/Shoes/Boots</td>\n",
       "      <td>Vince Camuto</td>\n",
       "      <td>0</td>\n",
       "      <td>2021876312</td>\n",
       "      <td>super cute brown or cognac knee high riding bo...</td>\n",
       "    </tr>\n",
       "    <tr>\n",
       "      <th>212</th>\n",
       "      <td>Brand new UGG boots</td>\n",
       "      <td>1</td>\n",
       "      <td>Women/Shoes/Boots</td>\n",
       "      <td>UGG Australia</td>\n",
       "      <td>0</td>\n",
       "      <td>5803720303</td>\n",
       "      <td>New in box</td>\n",
       "    </tr>\n",
       "    <tr>\n",
       "      <th>289</th>\n",
       "      <td>LL Bean Boots 8\" Red sz 7M</td>\n",
       "      <td>3</td>\n",
       "      <td>Women/Shoes/Boots</td>\n",
       "      <td>L.L. Bean</td>\n",
       "      <td>0</td>\n",
       "      <td>1065939786</td>\n",
       "      <td>Made to withstand winter climate.</td>\n",
       "    </tr>\n",
       "    <tr>\n",
       "      <th>299</th>\n",
       "      <td>Black UGGS cargo boot</td>\n",
       "      <td>3</td>\n",
       "      <td>Women/Shoes/Boots</td>\n",
       "      <td>UGG Australia</td>\n",
       "      <td>1</td>\n",
       "      <td>479394728</td>\n",
       "      <td>Unique, super cute and warm! EUC. Only selling...</td>\n",
       "    </tr>\n",
       "  </tbody>\n",
       "</table>\n",
       "</div>"
      ],
      "text/plain": [
       "                                 name  item_condition_id      category_name  \\\n",
       "id                                                                            \n",
       "46                       Corral boots                  2  Women/Shoes/Boots   \n",
       "88   Vince Camuto Riding boots size 6                  2  Women/Shoes/Boots   \n",
       "212               Brand new UGG boots                  1  Women/Shoes/Boots   \n",
       "289        LL Bean Boots 8\" Red sz 7M                  3  Women/Shoes/Boots   \n",
       "299             Black UGGS cargo boot                  3  Women/Shoes/Boots   \n",
       "\n",
       "        brand_name  shipping   seller_id  \\\n",
       "id                                         \n",
       "46             NaN         0  2261402465   \n",
       "88    Vince Camuto         0  2021876312   \n",
       "212  UGG Australia         0  5803720303   \n",
       "289      L.L. Bean         0  1065939786   \n",
       "299  UGG Australia         1   479394728   \n",
       "\n",
       "                                      item_description  \n",
       "id                                                      \n",
       "46     Corral boots in excellent condition barely used  \n",
       "88   super cute brown or cognac knee high riding bo...  \n",
       "212                                         New in box  \n",
       "289                  Made to withstand winter climate.  \n",
       "299  Unique, super cute and warm! EUC. Only selling...  "
      ]
     },
     "execution_count": 3,
     "metadata": {},
     "output_type": "execute_result"
    }
   ],
   "source": [
    "df_test = pd.read_csv(\"mercari_test.csv\", index_col = [\"id\"])\n",
    "df_test.head()"
   ]
  },
  {
   "cell_type": "code",
   "execution_count": 4,
   "metadata": {},
   "outputs": [
    {
     "name": "stdout",
     "output_type": "stream",
     "text": [
      "(68400, 8)\n",
      "(31789, 7)\n"
     ]
    }
   ],
   "source": [
    "print(df.shape)\n",
    "print(df_test.shape)"
   ]
  },
  {
   "cell_type": "code",
   "execution_count": 5,
   "metadata": {},
   "outputs": [
    {
     "name": "stdout",
     "output_type": "stream",
     "text": [
      "<class 'pandas.core.frame.DataFrame'>\n",
      "Int64Index: 68400 entries, 17 to 279814\n",
      "Data columns (total 8 columns):\n",
      "name                 68400 non-null object\n",
      "item_condition_id    68400 non-null int64\n",
      "category_name        68400 non-null object\n",
      "brand_name           46935 non-null object\n",
      "price                68400 non-null int64\n",
      "shipping             68400 non-null int64\n",
      "seller_id            68400 non-null int64\n",
      "item_description     61590 non-null object\n",
      "dtypes: int64(4), object(4)\n",
      "memory usage: 4.7+ MB\n"
     ]
    }
   ],
   "source": [
    "df.info()"
   ]
  },
  {
   "cell_type": "markdown",
   "metadata": {},
   "source": [
    "# 1. Price"
   ]
  },
  {
   "cell_type": "code",
   "execution_count": 6,
   "metadata": {},
   "outputs": [
    {
     "data": {
      "text/plain": [
       "count    68400.000000\n",
       "mean        22.881915\n",
       "std         28.613151\n",
       "min          3.000000\n",
       "25%          9.000000\n",
       "50%         15.000000\n",
       "75%         28.000000\n",
       "max       1375.000000\n",
       "Name: price, dtype: float64"
      ]
     },
     "execution_count": 6,
     "metadata": {},
     "output_type": "execute_result"
    }
   ],
   "source": [
    "df.price.describe()"
   ]
  },
  {
   "cell_type": "code",
   "execution_count": 7,
   "metadata": {},
   "outputs": [
    {
     "data": {
      "image/png": "[encoded data removed]",
      "text/plain": [
       "<Figure size 1152x432 with 1 Axes>"
      ]
     },
     "metadata": {
      "needs_background": "light"
     },
     "output_type": "display_data"
    }
   ],
   "source": [
    "plt.figure(figsize=(16,6))\n",
    "plt.hist(df.price,bins=25)\n",
    "plt.title(\"Price Distribution\")\n",
    "plt.xlabel(\"Price\")\n",
    "plt.ylabel(\"Count\")\n",
    "plt.show()"
   ]
  },
  {
   "cell_type": "code",
   "execution_count": 8,
   "metadata": {},
   "outputs": [
    {
     "data": {
      "text/html": [
       "<div>\n",
       "<style scoped>\n",
       "    .dataframe tbody tr th:only-of-type {\n",
       "        vertical-align: middle;\n",
       "    }\n",
       "\n",
       "    .dataframe tbody tr th {\n",
       "        vertical-align: top;\n",
       "    }\n",
       "\n",
       "    .dataframe thead th {\n",
       "        text-align: right;\n",
       "    }\n",
       "</style>\n",
       "<table border=\"1\" class=\"dataframe\">\n",
       "  <thead>\n",
       "    <tr style=\"text-align: right;\">\n",
       "      <th></th>\n",
       "      <th>name</th>\n",
       "      <th>item_condition_id</th>\n",
       "      <th>category_name</th>\n",
       "      <th>brand_name</th>\n",
       "      <th>price</th>\n",
       "      <th>shipping</th>\n",
       "      <th>seller_id</th>\n",
       "      <th>item_description</th>\n",
       "      <th>log_price</th>\n",
       "    </tr>\n",
       "    <tr>\n",
       "      <th>id</th>\n",
       "      <th></th>\n",
       "      <th></th>\n",
       "      <th></th>\n",
       "      <th></th>\n",
       "      <th></th>\n",
       "      <th></th>\n",
       "      <th></th>\n",
       "      <th></th>\n",
       "      <th></th>\n",
       "    </tr>\n",
       "  </thead>\n",
       "  <tbody>\n",
       "    <tr>\n",
       "      <th>17</th>\n",
       "      <td>Hold Alyssa Frye Harness boots 12R, Sz 7</td>\n",
       "      <td>3</td>\n",
       "      <td>Women/Shoes/Boots</td>\n",
       "      <td>Frye</td>\n",
       "      <td>79</td>\n",
       "      <td>1</td>\n",
       "      <td>211140753</td>\n",
       "      <td>Good used condition Women's Fyre harness boots...</td>\n",
       "      <td>4.382027</td>\n",
       "    </tr>\n",
       "    <tr>\n",
       "      <th>19</th>\n",
       "      <td>Steve Madden booties</td>\n",
       "      <td>3</td>\n",
       "      <td>Women/Shoes/Boots</td>\n",
       "      <td>Steve Madden</td>\n",
       "      <td>31</td>\n",
       "      <td>0</td>\n",
       "      <td>3874531266</td>\n",
       "      <td>The brand is actually \"Steven\" by Steve Madden...</td>\n",
       "      <td>3.465736</td>\n",
       "    </tr>\n",
       "    <tr>\n",
       "      <th>42</th>\n",
       "      <td>BCBG Tan Booties</td>\n",
       "      <td>1</td>\n",
       "      <td>Women/Shoes/Boots</td>\n",
       "      <td>NaN</td>\n",
       "      <td>48</td>\n",
       "      <td>0</td>\n",
       "      <td>8341537216</td>\n",
       "      <td>Brand new! Does not include the box.</td>\n",
       "      <td>3.891820</td>\n",
       "    </tr>\n",
       "    <tr>\n",
       "      <th>45</th>\n",
       "      <td>NWT Sorel Caribou boots size 8.5</td>\n",
       "      <td>1</td>\n",
       "      <td>Women/Shoes/Boots</td>\n",
       "      <td>NaN</td>\n",
       "      <td>85</td>\n",
       "      <td>0</td>\n",
       "      <td>4040379892</td>\n",
       "      <td>New in box. Size 8.5</td>\n",
       "      <td>4.454347</td>\n",
       "    </tr>\n",
       "    <tr>\n",
       "      <th>58</th>\n",
       "      <td>NIB Hunter Tiffany Mint Boots Size 5</td>\n",
       "      <td>1</td>\n",
       "      <td>Women/Shoes/Boots</td>\n",
       "      <td>Hunter</td>\n",
       "      <td>200</td>\n",
       "      <td>0</td>\n",
       "      <td>19216599</td>\n",
       "      <td>Brand new never worn only flaw is as you can s...</td>\n",
       "      <td>5.303305</td>\n",
       "    </tr>\n",
       "  </tbody>\n",
       "</table>\n",
       "</div>"
      ],
      "text/plain": [
       "                                        name  item_condition_id  \\\n",
       "id                                                                \n",
       "17  Hold Alyssa Frye Harness boots 12R, Sz 7                  3   \n",
       "19                      Steve Madden booties                  3   \n",
       "42                          BCBG Tan Booties                  1   \n",
       "45          NWT Sorel Caribou boots size 8.5                  1   \n",
       "58      NIB Hunter Tiffany Mint Boots Size 5                  1   \n",
       "\n",
       "        category_name    brand_name  price  shipping   seller_id  \\\n",
       "id                                                                 \n",
       "17  Women/Shoes/Boots          Frye     79         1   211140753   \n",
       "19  Women/Shoes/Boots  Steve Madden     31         0  3874531266   \n",
       "42  Women/Shoes/Boots           NaN     48         0  8341537216   \n",
       "45  Women/Shoes/Boots           NaN     85         0  4040379892   \n",
       "58  Women/Shoes/Boots        Hunter    200         0    19216599   \n",
       "\n",
       "                                     item_description  log_price  \n",
       "id                                                                \n",
       "17  Good used condition Women's Fyre harness boots...   4.382027  \n",
       "19  The brand is actually \"Steven\" by Steve Madden...   3.465736  \n",
       "42               Brand new! Does not include the box.   3.891820  \n",
       "45                               New in box. Size 8.5   4.454347  \n",
       "58  Brand new never worn only flaw is as you can s...   5.303305  "
      ]
     },
     "execution_count": 8,
     "metadata": {},
     "output_type": "execute_result"
    }
   ],
   "source": [
    "df[\"log_price\"] = df.price.apply(lambda x:np.log(x+1))\n",
    "df.head()"
   ]
  },
  {
   "cell_type": "code",
   "execution_count": 9,
   "metadata": {},
   "outputs": [
    {
     "data": {
      "image/png": "[encoded data removed]",
      "text/plain": [
       "<Figure size 432x288 with 1 Axes>"
      ]
     },
     "metadata": {
      "needs_background": "light"
     },
     "output_type": "display_data"
    }
   ],
   "source": [
    "plt.hist(df.log_price,bins=25)\n",
    "plt.title(\"Log(Price+1) Distribution\")\n",
    "plt.xlabel(\"log(Price+1)\")\n",
    "plt.ylabel(\"Count\")\n",
    "plt.show()"
   ]
  },
  {
   "cell_type": "markdown",
   "metadata": {},
   "source": [
    "# 2. Item_condition_id"
   ]
  },
  {
   "cell_type": "code",
   "execution_count": 10,
   "metadata": {},
   "outputs": [
    {
     "name": "stdout",
     "output_type": "stream",
     "text": [
      "+----------+-------+------------+\n",
      "| Category | Count | Percent(%) |\n",
      "+----------+-------+------------+\n",
      "|    2     | 24250 |    35.5    |\n",
      "|    3     | 24040 |    35.1    |\n",
      "|    1     | 18434 |    27.0    |\n",
      "|    4     |  1629 |    2.4     |\n",
      "|    5     |   47  |    0.1     |\n",
      "+----------+-------+------------+\n"
     ]
    },
    {
     "data": {
      "image/png": "[encoded data removed]",
      "text/plain": [
       "<Figure size 432x288 with 1 Axes>"
      ]
     },
     "metadata": {
      "needs_background": "light"
     },
     "output_type": "display_data"
    }
   ],
   "source": [
    "# TABULATING THE CATEGORIES IN \"item_condition_id\", COUNT AND PERCENTAGE\n",
    "\n",
    "x = PrettyTable()\n",
    "x.add_column(\"Category\",df.item_condition_id.value_counts().index)\n",
    "x.add_column(\"Count\",df.item_condition_id.value_counts().values)\n",
    "x.add_column(\"Percent(%)\",np.round(df.item_condition_id.value_counts().values/df.shape[0]*100,1))\n",
    "print(x)\n",
    "\n",
    "# BAR PLOT TO SHOW THE COUNT PRESESNT WITH EACH CATEGORY\n",
    "\n",
    "sns.barplot(x =df.item_condition_id.value_counts().index,y= df.item_condition_id.value_counts().values)\n",
    "plt.xlabel(\"Item_condition_id\")\n",
    "plt.ylabel(\"Count\")\n",
    "plt.show()"
   ]
  },
  {
   "cell_type": "markdown",
   "metadata": {},
   "source": [
    "# 3. Shipping"
   ]
  },
  {
   "cell_type": "code",
   "execution_count": 11,
   "metadata": {},
   "outputs": [
    {
     "name": "stdout",
     "output_type": "stream",
     "text": [
      "+----------+-------+------------+\n",
      "| Category | Count | Percent(%) |\n",
      "+----------+-------+------------+\n",
      "|    0     | 42748 |    62.5    |\n",
      "|    1     | 25652 |    37.5    |\n",
      "+----------+-------+------------+\n"
     ]
    },
    {
     "data": {
      "image/png": "[encoded data removed]",
      "text/plain": [
       "<Figure size 432x288 with 1 Axes>"
      ]
     },
     "metadata": {
      "needs_background": "light"
     },
     "output_type": "display_data"
    }
   ],
   "source": [
    "# TABULATING THE CATEGORIES IN \"shipping\", COUNT AND PERCENTAGE \n",
    "\n",
    "x = PrettyTable()\n",
    "x.add_column(\"Category\",df.shipping.value_counts().index)\n",
    "x.add_column(\"Count\",df.shipping.value_counts().values)\n",
    "x.add_column(\"Percent(%)\",np.round(df.shipping.value_counts().values/df.shape[0]*100,2))\n",
    "print(x)\n",
    "\n",
    "# BAR PLOT TO SHOW THE COUNT PRESESNT WITH EACH CATEGORY\n",
    "\n",
    "sns.barplot(x =df.shipping.value_counts().index,y= df.shipping.value_counts().values)\n",
    "plt.xlabel(\"Shipping\")\n",
    "plt.ylabel(\"Count\")\n",
    "plt.show()"
   ]
  },
  {
   "cell_type": "markdown",
   "metadata": {},
   "source": [
    "# 4. Name"
   ]
  },
  {
   "cell_type": "code",
   "execution_count": 12,
   "metadata": {},
   "outputs": [],
   "source": [
    "def decontracted(phrase):\n",
    "    phrase = re.sub(r\"won\\'t\", \"will not\", phrase)\n",
    "    phrase = re.sub(r\"can\\'t\", \"can not\", phrase)\n",
    "    phrase = re.sub(r\"n\\'t\", \" not\", phrase)\n",
    "    phrase = re.sub(r\"\\'re\", \" are\", phrase)\n",
    "    phrase = re.sub(r\"\\'s\", \" is\", phrase)\n",
    "    phrase = re.sub(r\"\\'d\", \" would\", phrase)\n",
    "    phrase = re.sub(r\"\\'ll\", \" will\", phrase)\n",
    "    phrase = re.sub(r\"\\'t\", \" not\", phrase)\n",
    "    phrase = re.sub(r\"\\'ve\", \" have\", phrase)\n",
    "    phrase = re.sub(r\"\\'m\", \" am\", phrase)\n",
    "    return phrase\n",
    "\n",
    "st_words = stopwords.words('english')\n",
    "\n",
    "# Function to preprocess the name\n",
    "\n",
    "def name_process(text):             \n",
    "    text = decontracted(text)\n",
    "    text = re.sub(\"[^A-Za-z0-9 ]\",\"\",text)  \n",
    "    text = text.lower()\n",
    "    text =  \" \".join([i for i in text.split() if i not in st_words])\n",
    "    if len(text)==0:\n",
    "        text = \"missing\"\n",
    "    return text"
   ]
  },
  {
   "cell_type": "code",
   "execution_count": 13,
   "metadata": {},
   "outputs": [],
   "source": [
    "# Applying \"preprocessing\" function on the feature \"name\"\n",
    "\n",
    "df[\"name_processed\"] = df.name.apply(name_process)\n",
    "df[df.name_processed.isnull()].name_processed =\"missing\" \n",
    "\n",
    "# Applying \"preprocessing\" function on the feature \"name\" on test data\n",
    "\n",
    "df_test[\"name_processed\"] = df_test.name.apply(name_process)\n",
    "df_test[df_test.name_processed.isnull()].name_processed =\"missing\" "
   ]
  },
  {
   "cell_type": "code",
   "execution_count": 14,
   "metadata": {},
   "outputs": [
    {
     "name": "stdout",
     "output_type": "stream",
     "text": [
      "Total number of categories = 54016\n",
      "Top 20\n",
      "+-----------------------+-------+------------+\n",
      "|         Names         | Count | Percent(%) |\n",
      "+-----------------------+-------+------------+\n",
      "|         bundle        |  188  |    0.27    |\n",
      "|  lularoe tc leggings  |  172  |    0.25    |\n",
      "|  lularoe os leggings  |  134  |    0.2     |\n",
      "|  victoria secret bra  |  121  |    0.18    |\n",
      "|  michael kors wallet  |  118  |    0.17    |\n",
      "|      coach wallet     |  103  |    0.15    |\n",
      "|      lularoe irma     |   99  |    0.14    |\n",
      "|      coach purse      |   88  |    0.13    |\n",
      "|      nike shorts      |   85  |    0.12    |\n",
      "|  american eagle jeans |   80  |    0.12    |\n",
      "|   michael kors purse  |   72  |    0.11    |\n",
      "|         dress         |   66  |    0.1     |\n",
      "| american eagle shorts |   65  |    0.1     |\n",
      "|   kate spade wallet   |   64  |    0.09    |\n",
      "|    lularoe leggings   |   62  |    0.09    |\n",
      "|       pink shirt      |   62  |    0.09    |\n",
      "|  tc lularoe leggings  |   59  |    0.09    |\n",
      "|       ugg boots       |   59  |    0.09    |\n",
      "|     lularoe randy     |   59  |    0.09    |\n",
      "|          vans         |   54  |    0.08    |\n",
      "+-----------------------+-------+------------+\n"
     ]
    },
    {
     "data": {
      "image/png": "[encoded data removed]",
      "text/plain": [
       "<Figure size 432x288 with 1 Axes>"
      ]
     },
     "metadata": {
      "needs_background": "light"
     },
     "output_type": "display_data"
    }
   ],
   "source": [
    "print(\"Total number of categories =\",str(df.name_processed.value_counts().shape[0]))\n",
    "\n",
    "# Printing top 20 frequent names \n",
    "\n",
    "x =PrettyTable()\n",
    "x.add_column(\"Names\",df.name_processed.value_counts().index[:20])\n",
    "x.add_column(\"Count\",df.name_processed.value_counts().values[:20])\n",
    "x.add_column(\"Percent(%)\",np.round(df.name_processed.value_counts().values[:20]/df.shape[0]*100,2))\n",
    "print(\"Top 20\")\n",
    "print(x)\n",
    "\n",
    "# Plotting the frequency of the names against the index of the different names\n",
    "\n",
    "sns.lineplot(x=range(len(df.name_processed.value_counts().values)),y=df.name_processed.value_counts())\n",
    "plt.title(\"Name\")\n",
    "plt.xlabel(\"name Index\")\n",
    "plt.ylabel(\"Count\")\n",
    "plt.show()"
   ]
  },
  {
   "cell_type": "markdown",
   "metadata": {},
   "source": [
    "# 5. Brand_name"
   ]
  },
  {
   "cell_type": "code",
   "execution_count": 15,
   "metadata": {},
   "outputs": [],
   "source": [
    "# Function to preprocess the \"brand_name\"\n",
    "\n",
    "def brand_process(text):\n",
    "    text = re.sub(\"[^A-Za-z0-9 ]\",\"\",text)\n",
    "    text = text.lower() \n",
    "    return text"
   ]
  },
  {
   "cell_type": "code",
   "execution_count": 16,
   "metadata": {},
   "outputs": [],
   "source": [
    "# Assigning the score correrponding to each \"brand_name\" equals to number of occurences for that brand\n",
    "\n",
    "brand_score = dict(df[df.brand_name.notnull()][\"brand_name\"].apply(brand_process).value_counts())\n",
    "processed_brand_name = []\n",
    "\n",
    "for index,i in (df.iterrows()) :\n",
    "    \n",
    "    if  pd.isnull(i.brand_name): #if the brand name isnull\n",
    "        \n",
    "        words = i.name_processed.split() # we will split the name for that datapoint\n",
    "        score  = []                      # stores the score for each word in words\n",
    "        for j in words:  \n",
    "            if j in brand_score.keys():  #if the words in name is present in the keys of brand score dict\n",
    "                score.append(brand_score[j]) \n",
    "            else:                        #if the word is not a brand name\n",
    "                score.append(-1)\n",
    "        \n",
    "        # the word with maximum score woulb be the brand name\n",
    "        if max(score) > 0: \n",
    "            processed_brand_name.append(words[score.index(max(score))])\n",
    "        else:                           # no brand name was found\n",
    "            processed_brand_name.append(\"missing\")\n",
    "            \n",
    "    else:                               # if the brand_name is not null\n",
    "        processed_brand_name.append(brand_process(i.brand_name))\n"
   ]
  },
  {
   "cell_type": "code",
   "execution_count": 17,
   "metadata": {},
   "outputs": [],
   "source": [
    "df[\"brand_name_processed\"] = processed_brand_name"
   ]
  },
  {
   "cell_type": "code",
   "execution_count": 18,
   "metadata": {},
   "outputs": [],
   "source": [
    "# applying the same for the test dataset\n",
    "\n",
    "processed_brand_name_test = []\n",
    "for index,i in (df_test.iterrows()) :\n",
    "    \n",
    "    if  pd.isnull(i.brand_name):\n",
    "        \n",
    "        words = i.name_processed.split()\n",
    "        score  = []\n",
    "        for j in words:\n",
    "            if j in brand_score.keys():\n",
    "                score.append(brand_score[j])\n",
    "            else:\n",
    "                score.append(-1)\n",
    "        \n",
    "        if max(score) > 0:\n",
    "            processed_brand_name_test.append(words[score.index(max(score))])\n",
    "        else:\n",
    "            processed_brand_name_test.append(\"missing\")\n",
    "    else:\n",
    "        processed_brand_name_test.append(brand_process(i.brand_name))"
   ]
  },
  {
   "cell_type": "code",
   "execution_count": 19,
   "metadata": {},
   "outputs": [],
   "source": [
    "df_test[\"brand_name_processed\"] = processed_brand_name_test"
   ]
  },
  {
   "cell_type": "code",
   "execution_count": 20,
   "metadata": {},
   "outputs": [
    {
     "name": "stdout",
     "output_type": "stream",
     "text": [
      "Total number of categories = 1084\n",
      "Top 10\n",
      "+------------------+-------+------------+\n",
      "|   Brand Names    | Count | Percent(%) |\n",
      "+------------------+-------+------------+\n",
      "|     missing      | 15213 |   22.24    |\n",
      "|     lularoe      |  8728 |   12.76    |\n",
      "|       pink       |  5114 |    7.48    |\n",
      "|       nike       |  3646 |    5.33    |\n",
      "| victorias secret |  3360 |    4.91    |\n",
      "|    forever 21    |  1729 |    2.53    |\n",
      "|  american eagle  |  1645 |    2.4     |\n",
      "|   michael kors   |  1163 |    1.7     |\n",
      "|      coach       |  1138 |    1.66    |\n",
      "|   kendra scott   |  898  |    1.31    |\n",
      "+------------------+-------+------------+\n"
     ]
    },
    {
     "data": {
      "image/png": "[encoded data removed]",
      "text/plain": [
       "<Figure size 432x288 with 1 Axes>"
      ]
     },
     "metadata": {
      "needs_background": "light"
     },
     "output_type": "display_data"
    }
   ],
   "source": [
    "print(\"Total number of categories =\",str(df.brand_name_processed.value_counts().shape[0]))\n",
    "\n",
    "# prints the top 10 occuring brand names\n",
    "\n",
    "x =PrettyTable()\n",
    "x.add_column(\"Brand Names\",df.brand_name_processed.value_counts().index[:10])\n",
    "x.add_column(\"Count\",df.brand_name_processed.value_counts().values[:10])\n",
    "x.add_column(\"Percent(%)\",np.round(df.brand_name_processed.value_counts().values[:10]/df.shape[0]*100,2))\n",
    "print(\"Top 10\")\n",
    "print(x)\n",
    "\n",
    "# Plotting the line plot of frequency against the index value brand names\n",
    "\n",
    "sns.lineplot(x=range(len(df.brand_name_processed.value_counts().values)),y=df.brand_name_processed.value_counts().values)\n",
    "plt.title(\"Brand Name\")\n",
    "plt.xlabel(\"Brand_name Index\")\n",
    "plt.ylabel(\"Count\")\n",
    "plt.show()"
   ]
  },
  {
   "cell_type": "markdown",
   "metadata": {},
   "source": [
    "# 6. Seller_id"
   ]
  },
  {
   "cell_type": "code",
   "execution_count": 21,
   "metadata": {},
   "outputs": [],
   "source": [
    "# Dropping the seller_id in both the datasets\n",
    "\n",
    "df = df.drop(\"seller_id\",1)\n",
    "df_test = df_test.drop(\"seller_id\",1)"
   ]
  },
  {
   "cell_type": "markdown",
   "metadata": {},
   "source": [
    "# 7. Category_name"
   ]
  },
  {
   "cell_type": "code",
   "execution_count": 22,
   "metadata": {},
   "outputs": [],
   "source": [
    "#Preprocessing the \"category_name\"\n",
    "\n",
    "def category_name_preprocessing(text):\n",
    "    text = re.sub(\"[^A-Za-z0-9/ ]\",\"\",text)\n",
    "    text = re.sub(\"s \",\" \",text) \n",
    "    text = re.sub(\"s/\",\"/\",text)\n",
    "    text = re.sub(\"  \",\" \",text)\n",
    "    text = text.lower()\n",
    "    return text"
   ]
  },
  {
   "cell_type": "code",
   "execution_count": 23,
   "metadata": {},
   "outputs": [],
   "source": [
    "# replacing the null values in \"category_name\" with word \"missing\"\n",
    "\n",
    "df.category_name[df.category_name.isnull()] = \"missing\"\n",
    "\n",
    "df[\"category_name_preprocessed\"] = df.category_name.apply(category_name_preprocessing)"
   ]
  },
  {
   "cell_type": "code",
   "execution_count": 24,
   "metadata": {},
   "outputs": [],
   "source": [
    "df_test.category_name[df_test.category_name.isnull()] = \"missing\"\n",
    "\n",
    "df_test[\"category_name_preprocessed\"] = df_test.category_name.apply(category_name_preprocessing)"
   ]
  },
  {
   "cell_type": "code",
   "execution_count": 25,
   "metadata": {},
   "outputs": [
    {
     "data": {
      "text/plain": [
       "array(['Women/Shoes/Boots', 'Women/Shoes/Sandals', 'Women/Shoes/Athletic',\n",
       "       'Women/Underwear/Bras', 'Women/Sweaters/Hooded',\n",
       "       'Women/Jewelry/Earrings', 'Women/Jewelry/Bracelets',\n",
       "       'Women/Jewelry/Necklaces', 'Women/Sweaters/Cardigan',\n",
       "       'Women/Jeans/Slim, skinny', 'Women/Swimwear/Two-piece',\n",
       "       'Women/Dresses/Knee-length', 'Women/Tops & blouses/Tunic',\n",
       "       'Women/Tops & blouses/Blouse', 'Women/Shoes/Fashion sneakers',\n",
       "       'Women/Athletic apparel/Shorts', 'Women/Tops & blouses/T-shirts',\n",
       "       'Women/Dresses/Above knee, mini',\n",
       "       'Women/Tops & blouses/Tank, cami',\n",
       "       \"Women/Women's accessories/Wallets\",\n",
       "       'Women/Athletic apparel/Shirts & tops',\n",
       "       \"Women/Women's handbags/Shoulder Bags\",\n",
       "       'Women/Athletic apparel/Pants, tights, leggings'], dtype=object)"
      ]
     },
     "execution_count": 25,
     "metadata": {},
     "output_type": "execute_result"
    }
   ],
   "source": [
    "df.category_name.unique() #there are 3 tiers. Tier 1 is same in all datapoints. So neglecting that."
   ]
  },
  {
   "cell_type": "code",
   "execution_count": 26,
   "metadata": {},
   "outputs": [],
   "source": [
    "# forming a column \"Tier_2\"\n",
    "\n",
    "df[\"Tier_2\"] = df.category_name_preprocessed.apply(lambda x:   x.split(\"/\")[1] if len(x.split(\"/\"))>1 else \"missing\")\n",
    "\n",
    "df_test[\"Tier_2\"] = df_test.category_name_preprocessed.apply(lambda x:   x.split(\"/\")[1] if len(x.split(\"/\"))>1 else \"missing\")"
   ]
  },
  {
   "cell_type": "code",
   "execution_count": 27,
   "metadata": {},
   "outputs": [
    {
     "name": "stdout",
     "output_type": "stream",
     "text": [
      "Total number of categories = 11\n",
      "Top 10\n",
      "+------------------+-------+---------------+\n",
      "|      Tier_2      | Count | Percentage(%) |\n",
      "+------------------+-------+---------------+\n",
      "|    top blouse    | 16637 |     24.32     |\n",
      "| athletic apparel | 14527 |     21.24     |\n",
      "|       shoe       |  9866 |     14.42     |\n",
      "|     jewelry      |  6240 |      9.12     |\n",
      "|      dresse      |  5986 |      8.75     |\n",
      "|     sweater      |  3194 |      4.67     |\n",
      "|    underwear     |  2908 |      4.25     |\n",
      "|  women handbag   |  2661 |      3.89     |\n",
      "| women accessorie |  2309 |      3.38     |\n",
      "|     swimwear     |  2176 |      3.18     |\n",
      "+------------------+-------+---------------+\n"
     ]
    },
    {
     "data": {
      "image/png": "[encoded data removed]",
      "text/plain": [
       "<Figure size 432x288 with 1 Axes>"
      ]
     },
     "metadata": {
      "needs_background": "light"
     },
     "output_type": "display_data"
    }
   ],
   "source": [
    "print(\"Total number of categories =\",str(df.Tier_2.value_counts().shape[0]))\n",
    "\n",
    "# prints the top 10 occuring tier_2 names\n",
    "\n",
    "x =PrettyTable()\n",
    "x.add_column(\"Tier_2\",df.Tier_2.value_counts().index[:10])\n",
    "x.add_column(\"Count\",df.Tier_2.value_counts().values[:10])\n",
    "x.add_column(\"Percentage(%)\",np.round(df.Tier_2.value_counts().values[:10]/df.shape[0]*100,2))\n",
    "print(\"Top 10\")\n",
    "print(x)\n",
    "\n",
    "# plotting the line plot for frequency of categories in tier_2 and index of tier_2.\n",
    "\n",
    "sns.lineplot(x=range(len(df.Tier_2.value_counts())),y=df.Tier_2.value_counts().values)\n",
    "plt.title(\"Category Name/Tier2\")\n",
    "plt.xlabel(\"Tier_2 Index\")\n",
    "plt.ylabel(\"Count\")\n",
    "plt.show()"
   ]
  },
  {
   "cell_type": "code",
   "execution_count": 28,
   "metadata": {},
   "outputs": [],
   "source": [
    "# forming a column \"Tier_3\"\n",
    "\n",
    "df[\"Tier_3\"] = df.category_name_preprocessed.apply(lambda x:   x.split(\"/\")[2] if len(x.split(\"/\"))>1 else \"missing\")\n",
    "\n",
    "df_test[\"Tier_3\"] = df_test.category_name_preprocessed.apply(lambda x:   x.split(\"/\")[2] if len(x.split(\"/\"))>1 else \"missing\")"
   ]
  },
  {
   "cell_type": "code",
   "execution_count": 29,
   "metadata": {},
   "outputs": [
    {
     "name": "stdout",
     "output_type": "stream",
     "text": [
      "Total number of categories = 23\n",
      "Top 10\n",
      "+---------------------+-------+---------------+\n",
      "|        Tier_3       | Count | Percentage(%) |\n",
      "+---------------------+-------+---------------+\n",
      "| pant tight leggings |  9371 |      13.7     |\n",
      "|       tshirts       |  8061 |     11.79     |\n",
      "|        blouse       |  3616 |      5.29     |\n",
      "|      tank cami      |  3483 |      5.09     |\n",
      "|        boots        |  3243 |      4.74     |\n",
      "|   above knee mini   |  3145 |      4.6      |\n",
      "|        shorts       |  3064 |      4.48     |\n",
      "|         bras        |  2908 |      4.25     |\n",
      "|      kneelength     |  2841 |      4.15     |\n",
      "|    shoulder bags    |  2661 |      3.89     |\n",
      "+---------------------+-------+---------------+\n"
     ]
    },
    {
     "data": {
      "image/png": "[encoded data removed]",
      "text/plain": [
       "<Figure size 432x288 with 1 Axes>"
      ]
     },
     "metadata": {
      "needs_background": "light"
     },
     "output_type": "display_data"
    }
   ],
   "source": [
    "print(\"Total number of categories =\",str(df.Tier_3.value_counts().shape[0]))\n",
    "\n",
    "# prints the top 10 occuring tier_3 names\n",
    "\n",
    "x =PrettyTable()\n",
    "x.add_column(\"Tier_3\",df.Tier_3.value_counts().index[:10])\n",
    "x.add_column(\"Count\",df.Tier_3.value_counts().values[:10])\n",
    "x.add_column(\"Percentage(%)\",np.round(df.Tier_3.value_counts().values[:10]/df.shape[0]*100,2))\n",
    "print(\"Top 10\")\n",
    "print(x)\n",
    "\n",
    "# plotting the line plot for frequency of categories in tier_3 and index of tier_3.\n",
    "\n",
    "sns.lineplot(x =range(len(df.Tier_3.value_counts())),y=df.Tier_3.value_counts().values)\n",
    "plt.title(\"Category Name/Tier_3\")\n",
    "plt.xlabel(\"Tier_3 Index\")\n",
    "plt.ylabel(\"Count\")\n",
    "plt.show()"
   ]
  },
  {
   "cell_type": "markdown",
   "metadata": {},
   "source": [
    "# Item_description"
   ]
  },
  {
   "cell_type": "code",
   "execution_count": 30,
   "metadata": {},
   "outputs": [],
   "source": [
    "#Preprocessing \"item_description\"\n",
    "\n",
    "def processing_item_description(text):\n",
    "    text = re.sub(\"\\[rm\\] \",\"\",str(text))\n",
    "    text = decontracted(text)\n",
    "    text = re.sub(\"[^A-Za-z0-9 ]\",\"\",str(text))\n",
    "    text = str(text).lower()\n",
    "    text =  \" \".join([i for i in text.split() if i not in st_words])\n",
    "    if len(text)==0:\n",
    "        text = \"missing\"\n",
    "    return text"
   ]
  },
  {
   "cell_type": "code",
   "execution_count": 31,
   "metadata": {},
   "outputs": [],
   "source": [
    "# replacing the null values with word \"missing\"\n",
    "\n",
    "df.item_description[df.item_description.isnull()]=\"missing\"\n",
    "\n",
    "df[\"item_description_processed\"] = df.item_description.apply(processing_item_description)"
   ]
  },
  {
   "cell_type": "code",
   "execution_count": 32,
   "metadata": {},
   "outputs": [],
   "source": [
    "df_test.item_description[df_test.item_description.isnull()]=\"missing\"\n",
    "\n",
    "df_test[\"item_description_processed\"] = df_test.item_description.apply(processing_item_description)"
   ]
  },
  {
   "cell_type": "code",
   "execution_count": 33,
   "metadata": {},
   "outputs": [
    {
     "name": "stdout",
     "output_type": "stream",
     "text": [
      "Total number of categories = 55460\n",
      "Top 10\n",
      "+------------------+-------+---------------+\n",
      "| item_description | Count | Percentage(%) |\n",
      "+------------------+-------+---------------+\n",
      "|     missing      |  6859 |     10.03     |\n",
      "|    never worn    |  263  |      0.38     |\n",
      "|       new        |  255  |      0.37     |\n",
      "|    brand new     |  234  |      0.34     |\n",
      "| great condition  |  204  |      0.3      |\n",
      "|  good condition  |  202  |      0.3      |\n",
      "|       worn       |  201  |      0.29     |\n",
      "|       nwt        |  162  |      0.24     |\n",
      "|  brand new tags  |  132  |      0.19     |\n",
      "|     new tags     |  125  |      0.18     |\n",
      "+------------------+-------+---------------+\n"
     ]
    }
   ],
   "source": [
    "print(\"Total number of categories =\",str(df.item_description_processed.value_counts().shape[0]))\n",
    "\n",
    "# Printing top 20 frequent item_description\n",
    "\n",
    "x =PrettyTable()\n",
    "x.add_column(\"item_description\",df.item_description_processed.value_counts().index[:10])\n",
    "x.add_column(\"Count\",df.item_description_processed.value_counts().values[:10])\n",
    "x.add_column(\"Percentage(%)\",np.round(df.item_description_processed.value_counts().values[:10]/df.shape[0]*100,2))\n",
    "print(\"Top 10\")\n",
    "print(x) "
   ]
  },
  {
   "cell_type": "code",
   "execution_count": 34,
   "metadata": {},
   "outputs": [],
   "source": [
    "# Storing the train and the test files\n",
    "\n",
    "df.to_csv(\"train_processed.csv\")\n",
    "df_test.to_csv(\"test_processed.csv\")"
   ]
  }
 ],
 "metadata": {
  "kernelspec": {
   "display_name": "Python 3",
   "language": "python",
   "name": "python3"
  },
  "language_info": {
   "codemirror_mode": {
    "name": "ipython",
    "version": 3
   },
   "file_extension": ".py",
   "mimetype": "text/x-python",
   "name": "python",
   "nbconvert_exporter": "python",
   "pygments_lexer": "ipython3",
   "version": "3.7.3"
  }
 },
 "nbformat": 4,
 "nbformat_minor": 2
}
